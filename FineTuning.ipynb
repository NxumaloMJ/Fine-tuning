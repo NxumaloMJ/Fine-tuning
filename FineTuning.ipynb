{
 "cells": [
  {
   "cell_type": "code",
   "execution_count": null,
   "id": "99cd9a48-6f6f-418b-9d1c-7a5a95c87dfa",
   "metadata": {},
   "outputs": [],
   "source": []
  },
  {
   "cell_type": "markdown",
   "id": "6fc5eef4-1adf-4130-bab5-33641f65da60",
   "metadata": {},
   "source": [
    "# Nxumalo Mzwandile \n",
    "### The Objective: Automating Cancer Prediction with High Accuracy"
   ]
  },
  {
   "cell_type": "code",
   "execution_count": 1,
   "id": "ee126906-f2f4-41f3-87b9-f518c6f1e3c4",
   "metadata": {
    "tags": []
   },
   "outputs": [
    {
     "name": "stdout",
     "output_type": "stream",
     "text": [
      "WARNING:tensorflow:From C:\\Users\\Doe John\\Documents\\New folder\\Lib\\site-packages\\keras\\src\\losses.py:2976: The name tf.losses.sparse_softmax_cross_entropy is deprecated. Please use tf.compat.v1.losses.sparse_softmax_cross_entropy instead.\n",
      "\n"
     ]
    }
   ],
   "source": [
    "import numpy as np\n",
    "import tensorflow as tf\n",
    "import os #interacting with the operating system\n",
    "import cv2 #open computer vision\n",
    "import matplotlib.pyplot as plt\n",
    "\n",
    "#for Model building \n",
    "from tensorflow.keras.models import Sequential\n",
    "from tensorflow.keras.layers import Conv2D, MaxPooling2D, Dense, Flatten, Dropout\n",
    "from tensorflow.keras.metrics import Precision, Recall, BinaryAccuracy\n",
    "from tensorflow.keras.models import load_model\n",
    "from sklearn.utils import shuffle\n",
    "from sklearn.model_selection import train_test_split\n",
    "import tqdm\n",
    "from PIL import Image\n",
    "import io\n",
    "import ipywidgets as widgets"
   ]
  },
  {
   "cell_type": "markdown",
   "id": "d3a37dbd-8f4f-4e1d-9768-2a6f699bbfb7",
   "metadata": {},
   "source": [
    "### Folder Paths "
   ]
  },
  {
   "cell_type": "code",
   "execution_count": 2,
   "id": "f199020f-b32c-4761-a33d-8885cacc6038",
   "metadata": {
    "tags": []
   },
   "outputs": [],
   "source": [
    "X_train = []\n",
    "Y_train = []\n",
    "image_size = 150\n",
    "labels = ['Normal','Type 1','Type 2','Type 3']\n",
    "for i in labels:\n",
    "    folderPath = os.path.join('train/',i) #the folder path for the train dataset\n",
    "    for j in os.listdir(folderPath):\n",
    "        img = cv2.imread(os.path.join(folderPath,j)) # read the folder and the image content found in the folder\n",
    "        img = cv2.resize(img,(image_size,image_size)) #image resize \n",
    "        X_train.append(img)\n",
    "        Y_train.append(i)\n",
    "\n",
    "for i in labels:\n",
    "    folderPath = os.path.join('test/',i) #test data folder path\n",
    "    for j in os.listdir(folderPath):\n",
    "        img = cv2.imread(os.path.join(folderPath,j))\n",
    "        img = cv2.resize(img,(image_size,image_size))\n",
    "        X_train.append(img)\n",
    "        Y_train.append(i)\n",
    "\n",
    "X_train = np.array(X_train)\n",
    "Y_train = np.array(Y_train)"
   ]
  },
  {
   "cell_type": "code",
   "execution_count": 3,
   "id": "699bb536-4bd9-4563-a136-167a8205ed63",
   "metadata": {
    "tags": []
   },
   "outputs": [
    {
     "data": {
      "text/plain": [
       "(928, 150, 150, 3)"
      ]
     },
     "execution_count": 3,
     "metadata": {},
     "output_type": "execute_result"
    }
   ],
   "source": [
    "X_train,Y_train = shuffle(X_train,Y_train,random_state=101)\n",
    "X_train.shape #this will give us the contents of the dataset\n"
   ]
  },
  {
   "cell_type": "markdown",
   "id": "f43515c6-1f38-4340-8885-c774f7b29f14",
   "metadata": {},
   "source": [
    "### Train Test split"
   ]
  },
  {
   "cell_type": "code",
   "execution_count": 4,
   "id": "dead4936-2055-4123-809b-cf105e271489",
   "metadata": {
    "tags": []
   },
   "outputs": [],
   "source": [
    "X_train,X_test,y_train,y_test = train_test_split(X_train,Y_train,test_size=0.2,random_state=101)"
   ]
  },
  {
   "cell_type": "code",
   "execution_count": 5,
   "id": "9ea90819-2452-4da1-b9a2-568c2f0c2abf",
   "metadata": {
    "tags": []
   },
   "outputs": [],
   "source": [
    "y_train_new = []\n",
    "for i in y_train:\n",
    "    y_train_new.append(labels.index(i))\n",
    "y_train=y_train_new\n",
    "y_train = tf.keras.utils.to_categorical(y_train)\n",
    "\n",
    "y_test_new = []\n",
    "for i in y_test:\n",
    "    y_test_new.append(labels.index(i))\n",
    "y_test=y_test_new\n",
    "y_test = tf.keras.utils.to_categorical(y_test)"
   ]
  },
  {
   "cell_type": "markdown",
   "id": "775b84a0-3abc-46c1-8069-c88813d69404",
   "metadata": {},
   "source": [
    "### Model Building "
   ]
  },
  {
   "cell_type": "code",
   "execution_count": 6,
   "id": "623ee7d6-fb75-4839-a52b-a8f72afa9dc4",
   "metadata": {
    "tags": []
   },
   "outputs": [
    {
     "name": "stdout",
     "output_type": "stream",
     "text": [
      "WARNING:tensorflow:From C:\\Users\\Doe John\\Documents\\New folder\\Lib\\site-packages\\keras\\src\\backend.py:873: The name tf.get_default_graph is deprecated. Please use tf.compat.v1.get_default_graph instead.\n",
      "\n",
      "WARNING:tensorflow:From C:\\Users\\Doe John\\Documents\\New folder\\Lib\\site-packages\\keras\\src\\layers\\pooling\\max_pooling2d.py:161: The name tf.nn.max_pool is deprecated. Please use tf.nn.max_pool2d instead.\n",
      "\n"
     ]
    }
   ],
   "source": [
    "model = Sequential()\n",
    "model.add(Conv2D(32,(3,3),activation = 'relu',input_shape=(150,150,3)))\n",
    "model.add(Conv2D(64,(3,3),activation='relu'))\n",
    "model.add(MaxPooling2D(2,2))\n",
    "model.add(Dropout(0.3))\n",
    "\n",
    "model.add(Conv2D(64,(3,3),activation='relu'))\n",
    "model.add(Conv2D(64,(3,3),activation='relu'))\n",
    "model.add(Dropout(0.3))\n",
    "model.add(MaxPooling2D(2,2))\n",
    "\n",
    "model.add(Dropout(0.3))\n",
    "\n",
    "model.add(Conv2D(128,(3,3),activation='relu'))\n",
    "model.add(Conv2D(128,(3,3),activation='relu'))\n",
    "model.add(Conv2D(128,(3,3),activation='relu'))\n",
    "model.add(MaxPooling2D(2,2))\n",
    "model.add(Dropout(0.3))\n",
    "\n",
    "model.add(Conv2D(128,(3,3),activation='relu'))\n",
    "model.add(Conv2D(256,(3,3),activation='relu'))\n",
    "model.add(MaxPooling2D(2,2))\n",
    "model.add(Dropout(0.3))\n",
    "\n",
    "model.add(Flatten())\n",
    "\n",
    "model.add(Dense(512,activation = 'relu'))\n",
    "model.add(Dense(512,activation = 'relu'))\n",
    "model.add(Dropout(0.3))\n",
    "model.add(Dense(4,activation='softmax')) #we are using softmax as the activation param because we are dealing with probability problem \n",
    "#as to whether the image belongs to one of the labels or not"
   ]
  },
  {
   "cell_type": "code",
   "execution_count": 7,
   "id": "e0be529c-eb0c-4474-b886-47645b3f9df9",
   "metadata": {
    "tags": []
   },
   "outputs": [
    {
     "name": "stdout",
     "output_type": "stream",
     "text": [
      "Model: \"sequential\"\n",
      "_________________________________________________________________\n",
      " Layer (type)                Output Shape              Param #   \n",
      "=================================================================\n",
      " conv2d (Conv2D)             (None, 148, 148, 32)      896       \n",
      "                                                                 \n",
      " conv2d_1 (Conv2D)           (None, 146, 146, 64)      18496     \n",
      "                                                                 \n",
      " max_pooling2d (MaxPooling2  (None, 73, 73, 64)        0         \n",
      " D)                                                              \n",
      "                                                                 \n",
      " dropout (Dropout)           (None, 73, 73, 64)        0         \n",
      "                                                                 \n",
      " conv2d_2 (Conv2D)           (None, 71, 71, 64)        36928     \n",
      "                                                                 \n",
      " conv2d_3 (Conv2D)           (None, 69, 69, 64)        36928     \n",
      "                                                                 \n",
      " dropout_1 (Dropout)         (None, 69, 69, 64)        0         \n",
      "                                                                 \n",
      " max_pooling2d_1 (MaxPoolin  (None, 34, 34, 64)        0         \n",
      " g2D)                                                            \n",
      "                                                                 \n",
      " dropout_2 (Dropout)         (None, 34, 34, 64)        0         \n",
      "                                                                 \n",
      " conv2d_4 (Conv2D)           (None, 32, 32, 128)       73856     \n",
      "                                                                 \n",
      " conv2d_5 (Conv2D)           (None, 30, 30, 128)       147584    \n",
      "                                                                 \n",
      " conv2d_6 (Conv2D)           (None, 28, 28, 128)       147584    \n",
      "                                                                 \n",
      " max_pooling2d_2 (MaxPoolin  (None, 14, 14, 128)       0         \n",
      " g2D)                                                            \n",
      "                                                                 \n",
      " dropout_3 (Dropout)         (None, 14, 14, 128)       0         \n",
      "                                                                 \n",
      " conv2d_7 (Conv2D)           (None, 12, 12, 128)       147584    \n",
      "                                                                 \n",
      " conv2d_8 (Conv2D)           (None, 10, 10, 256)       295168    \n",
      "                                                                 \n",
      " max_pooling2d_3 (MaxPoolin  (None, 5, 5, 256)         0         \n",
      " g2D)                                                            \n",
      "                                                                 \n",
      " dropout_4 (Dropout)         (None, 5, 5, 256)         0         \n",
      "                                                                 \n",
      " flatten (Flatten)           (None, 6400)              0         \n",
      "                                                                 \n",
      " dense (Dense)               (None, 512)               3277312   \n",
      "                                                                 \n",
      " dense_1 (Dense)             (None, 512)               262656    \n",
      "                                                                 \n",
      " dropout_5 (Dropout)         (None, 512)               0         \n",
      "                                                                 \n",
      " dense_2 (Dense)             (None, 4)                 2052      \n",
      "                                                                 \n",
      "=================================================================\n",
      "Total params: 4447044 (16.96 MB)\n",
      "Trainable params: 4447044 (16.96 MB)\n",
      "Non-trainable params: 0 (0.00 Byte)\n",
      "_________________________________________________________________\n"
     ]
    }
   ],
   "source": [
    "model.summary()"
   ]
  },
  {
   "cell_type": "code",
   "execution_count": 8,
   "id": "9e8d21b7-e16b-4a67-a438-8198930c3067",
   "metadata": {
    "tags": []
   },
   "outputs": [
    {
     "name": "stdout",
     "output_type": "stream",
     "text": [
      "WARNING:tensorflow:From C:\\Users\\Doe John\\Documents\\New folder\\Lib\\site-packages\\keras\\src\\optimizers\\__init__.py:309: The name tf.train.Optimizer is deprecated. Please use tf.compat.v1.train.Optimizer instead.\n",
      "\n"
     ]
    }
   ],
   "source": [
    "model.compile('Adam', loss=tf.losses.CategoricalCrossentropy(), metrics=['accuracy'])"
   ]
  },
  {
   "cell_type": "markdown",
   "id": "8af27a80-1621-4fa1-8dc3-c25c5c8dd3a8",
   "metadata": {},
   "source": [
    "### Model Training"
   ]
  },
  {
   "cell_type": "code",
   "execution_count": 9,
   "id": "eb850fb4-7c67-4e0e-a752-49b2d8261de1",
   "metadata": {
    "scrolled": true,
    "tags": []
   },
   "outputs": [
    {
     "name": "stdout",
     "output_type": "stream",
     "text": [
      "Epoch 1/30\n",
      "WARNING:tensorflow:From C:\\Users\\Doe John\\Documents\\New folder\\Lib\\site-packages\\keras\\src\\utils\\tf_utils.py:492: The name tf.ragged.RaggedTensorValue is deprecated. Please use tf.compat.v1.ragged.RaggedTensorValue instead.\n",
      "\n",
      "WARNING:tensorflow:From C:\\Users\\Doe John\\Documents\\New folder\\Lib\\site-packages\\keras\\src\\engine\\base_layer_utils.py:384: The name tf.executing_eagerly_outside_functions is deprecated. Please use tf.compat.v1.executing_eagerly_outside_functions instead.\n",
      "\n",
      "21/21 [==============================] - 63s 3s/step - loss: 4.7758 - accuracy: 0.2714 - val_loss: 1.3773 - val_accuracy: 0.2133\n",
      "Epoch 2/30\n",
      "21/21 [==============================] - 60s 3s/step - loss: 1.3375 - accuracy: 0.3613 - val_loss: 1.3531 - val_accuracy: 0.3600\n",
      "Epoch 3/30\n",
      "21/21 [==============================] - 61s 3s/step - loss: 1.3210 - accuracy: 0.3958 - val_loss: 1.3964 - val_accuracy: 0.2133\n",
      "Epoch 4/30\n",
      "21/21 [==============================] - 59s 3s/step - loss: 1.2721 - accuracy: 0.4138 - val_loss: 1.4289 - val_accuracy: 0.2133\n",
      "Epoch 5/30\n",
      "21/21 [==============================] - 60s 3s/step - loss: 1.1765 - accuracy: 0.4738 - val_loss: 1.6009 - val_accuracy: 0.2133\n",
      "Epoch 6/30\n",
      "21/21 [==============================] - 60s 3s/step - loss: 1.1265 - accuracy: 0.4903 - val_loss: 1.5546 - val_accuracy: 0.2133\n",
      "Epoch 7/30\n",
      "21/21 [==============================] - 60s 3s/step - loss: 0.9795 - accuracy: 0.5622 - val_loss: 2.1012 - val_accuracy: 0.2133\n",
      "Epoch 8/30\n",
      "21/21 [==============================] - 60s 3s/step - loss: 0.9373 - accuracy: 0.5697 - val_loss: 1.8290 - val_accuracy: 0.2533\n",
      "Epoch 9/30\n",
      "21/21 [==============================] - 60s 3s/step - loss: 0.8446 - accuracy: 0.5997 - val_loss: 1.6932 - val_accuracy: 0.2933\n",
      "Epoch 10/30\n",
      "21/21 [==============================] - 60s 3s/step - loss: 0.8111 - accuracy: 0.6357 - val_loss: 2.0326 - val_accuracy: 0.3200\n",
      "Epoch 11/30\n",
      "21/21 [==============================] - 59s 3s/step - loss: 0.7989 - accuracy: 0.6267 - val_loss: 1.3634 - val_accuracy: 0.4000\n",
      "Epoch 12/30\n",
      "21/21 [==============================] - 60s 3s/step - loss: 0.6910 - accuracy: 0.7076 - val_loss: 1.3293 - val_accuracy: 0.4400\n",
      "Epoch 13/30\n",
      "21/21 [==============================] - 61s 3s/step - loss: 0.6261 - accuracy: 0.7376 - val_loss: 1.9015 - val_accuracy: 0.3333\n",
      "Epoch 14/30\n",
      "21/21 [==============================] - 61s 3s/step - loss: 0.6040 - accuracy: 0.7256 - val_loss: 1.7063 - val_accuracy: 0.4000\n",
      "Epoch 15/30\n",
      "21/21 [==============================] - 61s 3s/step - loss: 0.6605 - accuracy: 0.7301 - val_loss: 1.6474 - val_accuracy: 0.3467\n",
      "Epoch 16/30\n",
      "21/21 [==============================] - 60s 3s/step - loss: 0.5440 - accuracy: 0.7826 - val_loss: 1.1152 - val_accuracy: 0.4933\n",
      "Epoch 17/30\n",
      "21/21 [==============================] - 75s 4s/step - loss: 0.5884 - accuracy: 0.7451 - val_loss: 1.0868 - val_accuracy: 0.4800\n",
      "Epoch 18/30\n",
      "21/21 [==============================] - 68s 3s/step - loss: 0.4848 - accuracy: 0.8081 - val_loss: 1.3835 - val_accuracy: 0.4533\n",
      "Epoch 19/30\n",
      "21/21 [==============================] - 81s 4s/step - loss: 0.4394 - accuracy: 0.8021 - val_loss: 1.1710 - val_accuracy: 0.4800\n",
      "Epoch 20/30\n",
      "21/21 [==============================] - 71s 3s/step - loss: 0.4592 - accuracy: 0.8081 - val_loss: 2.1636 - val_accuracy: 0.3333\n",
      "Epoch 21/30\n",
      "21/21 [==============================] - 63s 3s/step - loss: 0.3310 - accuracy: 0.8681 - val_loss: 1.1854 - val_accuracy: 0.5733\n",
      "Epoch 22/30\n",
      "21/21 [==============================] - 61s 3s/step - loss: 0.3489 - accuracy: 0.8546 - val_loss: 1.1144 - val_accuracy: 0.5600\n",
      "Epoch 23/30\n",
      "21/21 [==============================] - 61s 3s/step - loss: 0.2979 - accuracy: 0.8936 - val_loss: 2.3331 - val_accuracy: 0.3600\n",
      "Epoch 24/30\n",
      "21/21 [==============================] - 61s 3s/step - loss: 0.2728 - accuracy: 0.8936 - val_loss: 1.5021 - val_accuracy: 0.4400\n",
      "Epoch 25/30\n",
      "21/21 [==============================] - 61s 3s/step - loss: 0.2605 - accuracy: 0.8996 - val_loss: 2.5101 - val_accuracy: 0.3200\n",
      "Epoch 26/30\n",
      "21/21 [==============================] - 62s 3s/step - loss: 0.3034 - accuracy: 0.8966 - val_loss: 1.3911 - val_accuracy: 0.5200\n",
      "Epoch 27/30\n",
      "21/21 [==============================] - 62s 3s/step - loss: 0.2886 - accuracy: 0.8846 - val_loss: 1.0349 - val_accuracy: 0.7067\n",
      "Epoch 28/30\n",
      "21/21 [==============================] - 61s 3s/step - loss: 0.2608 - accuracy: 0.9190 - val_loss: 1.0002 - val_accuracy: 0.6800\n",
      "Epoch 29/30\n",
      "21/21 [==============================] - 60s 3s/step - loss: 0.2383 - accuracy: 0.9145 - val_loss: 0.9897 - val_accuracy: 0.6133\n",
      "Epoch 30/30\n",
      "21/21 [==============================] - 62s 3s/step - loss: 0.1485 - accuracy: 0.9460 - val_loss: 1.1644 - val_accuracy: 0.6533\n"
     ]
    }
   ],
   "source": [
    "history = model.fit(X_train,y_train,epochs=30,validation_split=0.1)"
   ]
  },
  {
   "cell_type": "code",
   "execution_count": 10,
   "id": "c55aab6b-baea-430d-9701-e23edccb27bd",
   "metadata": {
    "tags": []
   },
   "outputs": [
    {
     "data": {
      "image/png": "[encoded data removed]",
      "text/plain": [
       "<Figure size 1400x700 with 1 Axes>"
      ]
     },
     "metadata": {},
     "output_type": "display_data"
    }
   ],
   "source": [
    "acc = history.history['accuracy']\n",
    "val_acc = history.history['val_accuracy']\n",
    "epochs = range(len(acc))\n",
    "fig = plt.figure(figsize=(14,7))\n",
    "plt.plot(epochs,acc,'r',label=\"Training Accuracy\")\n",
    "plt.plot(epochs,val_acc,'b',label=\"Validation Accuracy\")\n",
    "plt.legend(loc='upper left')\n",
    "plt.show()"
   ]
  },
  {
   "cell_type": "code",
   "execution_count": 11,
   "id": "f43d0afa-fa6a-4a2b-99e9-f2db685ed90b",
   "metadata": {
    "tags": []
   },
   "outputs": [
    {
     "data": {
      "image/png": "[encoded data removed]",
      "text/plain": [
       "<Figure size 1400x700 with 1 Axes>"
      ]
     },
     "metadata": {},
     "output_type": "display_data"
    }
   ],
   "source": [
    "loss = history.history['loss']\n",
    "val_acc = history.history['val_loss']\n",
    "epochs = range(len(acc))\n",
    "fig = plt.figure(figsize=(14,7))\n",
    "plt.plot(epochs,acc,'r',label=\"Training Loss\")\n",
    "plt.plot(epochs,val_acc,'b',label=\"Validation Loss\")\n",
    "plt.legend(loc='upper left')\n",
    "plt.show()"
   ]
  },
  {
   "cell_type": "markdown",
   "id": "db80ab75-1e70-476e-a64f-fae486e09df5",
   "metadata": {},
   "source": [
    "### Prediction"
   ]
  },
  {
   "cell_type": "code",
   "execution_count": 12,
   "id": "212a5b67-7640-4523-97f8-d4fa5807600b",
   "metadata": {
    "tags": []
   },
   "outputs": [
    {
     "data": {
      "text/plain": [
       "(150, 150, 3)"
      ]
     },
     "execution_count": 12,
     "metadata": {},
     "output_type": "execute_result"
    }
   ],
   "source": [
    "img = cv2.imread('train/Type 1/000017 (8).png')\n",
    "img = cv2.resize(img,(150,150))\n",
    "img_array = np.array(img)\n",
    "img_array.shape"
   ]
  },
  {
   "cell_type": "code",
   "execution_count": 13,
   "id": "7fe62def-b02f-4b8e-9e1d-8d0f6d069023",
   "metadata": {
    "tags": []
   },
   "outputs": [
    {
     "data": {
      "text/plain": [
       "(1, 150, 150, 3)"
      ]
     },
     "execution_count": 13,
     "metadata": {},
     "output_type": "execute_result"
    }
   ],
   "source": [
    "img_array = img_array.reshape(1,150,150,3)\n",
    "img_array.shape"
   ]
  },
  {
   "cell_type": "code",
   "execution_count": 14,
   "id": "8076f136-af46-43d0-a821-b22d0e2214c4",
   "metadata": {
    "tags": []
   },
   "outputs": [
    {
     "name": "stdout",
     "output_type": "stream",
     "text": [
      "1/1 [==============================] - 0s 257ms/step\n"
     ]
    },
    {
     "data": {
      "text/plain": [
       "1"
      ]
     },
     "execution_count": 14,
     "metadata": {},
     "output_type": "execute_result"
    }
   ],
   "source": [
    "a=model.predict(img_array)\n",
    "indices = a.argmax()\n",
    "indices"
   ]
  },
  {
   "cell_type": "markdown",
   "id": "1a39cdc7-4691-4490-8c64-b54858ba016a",
   "metadata": {},
   "source": [
    "###### The model gave a 94% accuracy but then my validation loss and the training loss was not decreasing drastically maybe the epochs were to be increased to avoid the overfitting problem."
   ]
  },
  {
   "cell_type": "markdown",
   "id": "14151c9e-6fed-4598-a502-ff4c3573054b",
   "metadata": {},
   "source": [
    "## Fine Tuning the model for better results and accuracy"
   ]
  },
  {
   "cell_type": "code",
   "execution_count": 18,
   "id": "a3c3c396-6f75-4ab9-9974-e35ed442cc3c",
   "metadata": {
    "scrolled": true,
    "tags": []
   },
   "outputs": [
    {
     "name": "stdout",
     "output_type": "stream",
     "text": [
      "Epoch 1/20\n",
      "24/24 [==============================] - 68s 3s/step - loss: 4.4594 - accuracy: 0.2803 - val_loss: 3.4864 - val_accuracy: 0.3226\n",
      "Epoch 2/20\n",
      "24/24 [==============================] - 65s 3s/step - loss: 3.3705 - accuracy: 0.3989 - val_loss: 3.2858 - val_accuracy: 0.3387\n",
      "Epoch 3/20\n",
      "24/24 [==============================] - 66s 3s/step - loss: 3.1728 - accuracy: 0.4340 - val_loss: 3.0835 - val_accuracy: 0.4247\n",
      "Epoch 4/20\n",
      "24/24 [==============================] - 67s 3s/step - loss: 2.8888 - accuracy: 0.4960 - val_loss: 3.0925 - val_accuracy: 0.4247\n",
      "Epoch 5/20\n",
      "24/24 [==============================] - 67s 3s/step - loss: 2.8506 - accuracy: 0.4367 - val_loss: 3.2679 - val_accuracy: 0.4086\n",
      "Epoch 6/20\n",
      "24/24 [==============================] - 66s 3s/step - loss: 2.6518 - accuracy: 0.5040 - val_loss: 2.8599 - val_accuracy: 0.3602\n",
      "Epoch 7/20\n",
      "24/24 [==============================] - 66s 3s/step - loss: 2.6906 - accuracy: 0.4259 - val_loss: 2.6977 - val_accuracy: 0.4624\n",
      "Epoch 8/20\n",
      "24/24 [==============================] - 66s 3s/step - loss: 2.4187 - accuracy: 0.5216 - val_loss: 2.7841 - val_accuracy: 0.4462\n",
      "Epoch 9/20\n",
      "24/24 [==============================] - 66s 3s/step - loss: 2.2686 - accuracy: 0.6146 - val_loss: 2.7749 - val_accuracy: 0.4839\n",
      "Epoch 10/20\n",
      "24/24 [==============================] - 75s 3s/step - loss: 2.2037 - accuracy: 0.5930 - val_loss: 2.6320 - val_accuracy: 0.4409\n",
      "Epoch 11/20\n",
      "24/24 [==============================] - 68s 3s/step - loss: 2.1610 - accuracy: 0.5997 - val_loss: 2.4385 - val_accuracy: 0.5108\n",
      "Epoch 12/20\n",
      "24/24 [==============================] - 66s 3s/step - loss: 1.9970 - accuracy: 0.6658 - val_loss: 2.5420 - val_accuracy: 0.6183\n",
      "Epoch 13/20\n",
      "24/24 [==============================] - 68s 3s/step - loss: 1.9224 - accuracy: 0.6819 - val_loss: 2.5907 - val_accuracy: 0.6774\n",
      "Epoch 14/20\n",
      "24/24 [==============================] - 65s 3s/step - loss: 1.7678 - accuracy: 0.7399 - val_loss: 2.5851 - val_accuracy: 0.6667\n",
      "Epoch 15/20\n",
      "24/24 [==============================] - 65s 3s/step - loss: 1.7699 - accuracy: 0.7399 - val_loss: 2.7779 - val_accuracy: 0.6290\n",
      "Epoch 16/20\n",
      "24/24 [==============================] - 65s 3s/step - loss: 1.7675 - accuracy: 0.7116 - val_loss: 2.3969 - val_accuracy: 0.6774\n",
      "Epoch 17/20\n",
      "24/24 [==============================] - 67s 3s/step - loss: 1.6254 - accuracy: 0.7628 - val_loss: 2.1768 - val_accuracy: 0.7258\n",
      "Epoch 18/20\n",
      "24/24 [==============================] - 66s 3s/step - loss: 1.6090 - accuracy: 0.7561 - val_loss: 2.4657 - val_accuracy: 0.6505\n",
      "Epoch 19/20\n",
      "24/24 [==============================] - 66s 3s/step - loss: 1.5481 - accuracy: 0.7682 - val_loss: 2.1921 - val_accuracy: 0.6398\n",
      "Epoch 20/20\n",
      "24/24 [==============================] - 66s 3s/step - loss: 1.4395 - accuracy: 0.7857 - val_loss: 2.6064 - val_accuracy: 0.6774\n"
     ]
    }
   ],
   "source": [
    "#lets start with the regularization (kernel), addition of the kernel parameter, validation data= xtest and ytest and the epochs decreased to 20\n",
    "from tensorflow.keras.regularizers import L2\n",
    "model_1 = Sequential()\n",
    "\n",
    "model_1.add(Conv2D(32,(3,3),activation = 'relu',input_shape=(150,150,3)))\n",
    "model_1.add(Conv2D(64,(3,3),activation='relu' , kernel_regularizer=L2(0.001)))\n",
    "model_1.add(MaxPooling2D(2,2))\n",
    "\n",
    "\n",
    "model_1.add(Conv2D(64,(3,3),activation='relu' , kernel_regularizer=L2(0.001)))\n",
    "model_1.add(Conv2D(64,(3,3),activation='relu', kernel_regularizer=L2(0.001)))\n",
    "model_1.add(Dropout(0.3))\n",
    "model_1.add(MaxPooling2D(2,2))\n",
    "\n",
    "model_1.add(Dropout(0.3))\n",
    "\n",
    "model_1.add(Conv2D(128,(3,3),activation='relu', kernel_regularizer=L2(0.001)))\n",
    "model_1.add(Conv2D(128,(3,3),activation='relu', kernel_regularizer=L2(0.001)))\n",
    "model_1.add(Conv2D(128,(3,3),activation='relu' ,kernel_regularizer=L2(0.001)))\n",
    "model_1.add(MaxPooling2D(2,2))\n",
    "model_1.add(Dropout(0.3))\n",
    "\n",
    "model_1.add(Conv2D(128,(3,3),activation='relu', kernel_regularizer=L2(0.001)))\n",
    "model_1.add(Conv2D(256,(3,3),activation='relu', kernel_regularizer=L2(0.001)))\n",
    "model_1.add(MaxPooling2D(2,2))\n",
    "model_1.add(Dropout(0.3))\n",
    "\n",
    "model_1.add(Flatten())\n",
    "\n",
    "model_1.add(Dense(512,activation = 'relu', kernel_regularizer=L2(0.001)))\n",
    "model_1.add(Dense(512,activation = 'relu', kernel_regularizer=L2(0.001)))\n",
    "model_1.add(Dropout(0.3))\n",
    "model_1.add(Dense(4,activation='softmax'))\n",
    "\n",
    "model_1.compile('Adam', loss=tf.losses.CategoricalCrossentropy(), metrics=['accuracy'])\n",
    "history = model_1.fit(X_train,y_train,epochs=20,validation_data=(X_test,y_test))"
   ]
  },
  {
   "cell_type": "code",
   "execution_count": 21,
   "id": "777a4de8-6d25-436b-bfe3-da61e7146e77",
   "metadata": {
    "scrolled": true,
    "tags": []
   },
   "outputs": [
    {
     "name": "stdout",
     "output_type": "stream",
     "text": [
      "Epoch 1/30\n",
      "24/24 [==============================] - 69s 3s/step - loss: 4.5526 - accuracy: 0.2844 - val_loss: 3.4578 - val_accuracy: 0.5161\n",
      "Epoch 2/30\n",
      "24/24 [==============================] - 66s 3s/step - loss: 3.3566 - accuracy: 0.3437 - val_loss: 3.3265 - val_accuracy: 0.3226\n",
      "Epoch 3/30\n",
      "24/24 [==============================] - 66s 3s/step - loss: 3.1332 - accuracy: 0.4407 - val_loss: 3.1316 - val_accuracy: 0.3925\n",
      "Epoch 4/30\n",
      "24/24 [==============================] - 66s 3s/step - loss: 2.9382 - accuracy: 0.4596 - val_loss: 3.1709 - val_accuracy: 0.3602\n",
      "Epoch 5/30\n",
      "24/24 [==============================] - 66s 3s/step - loss: 2.7152 - accuracy: 0.5000 - val_loss: 2.9003 - val_accuracy: 0.3495\n",
      "Epoch 6/30\n",
      "24/24 [==============================] - 67s 3s/step - loss: 2.6636 - accuracy: 0.5148 - val_loss: 3.0162 - val_accuracy: 0.3763\n",
      "Epoch 7/30\n",
      "24/24 [==============================] - 88s 4s/step - loss: 2.4924 - accuracy: 0.5283 - val_loss: 2.6562 - val_accuracy: 0.4677\n",
      "Epoch 8/30\n",
      "24/24 [==============================] - 85s 4s/step - loss: 2.5555 - accuracy: 0.4582 - val_loss: 3.0093 - val_accuracy: 0.5000\n",
      "Epoch 9/30\n",
      "24/24 [==============================] - 69s 3s/step - loss: 2.3688 - accuracy: 0.5391 - val_loss: 2.8911 - val_accuracy: 0.5161\n",
      "Epoch 10/30\n",
      "24/24 [==============================] - 68s 3s/step - loss: 2.2067 - accuracy: 0.6051 - val_loss: 3.3899 - val_accuracy: 0.5269\n",
      "Epoch 11/30\n",
      "24/24 [==============================] - 68s 3s/step - loss: 2.1520 - accuracy: 0.5997 - val_loss: 2.6822 - val_accuracy: 0.4355\n",
      "Epoch 12/30\n",
      "24/24 [==============================] - 73s 3s/step - loss: 2.1601 - accuracy: 0.6132 - val_loss: 2.7278 - val_accuracy: 0.4785\n",
      "Epoch 13/30\n",
      "24/24 [==============================] - 71s 3s/step - loss: 2.0639 - accuracy: 0.6092 - val_loss: 2.8005 - val_accuracy: 0.4731\n",
      "Epoch 14/30\n",
      "24/24 [==============================] - 74s 3s/step - loss: 1.9299 - accuracy: 0.6429 - val_loss: 2.9104 - val_accuracy: 0.6075\n",
      "Epoch 15/30\n",
      "24/24 [==============================] - 70s 3s/step - loss: 1.8583 - accuracy: 0.6739 - val_loss: 2.7439 - val_accuracy: 0.6774\n",
      "Epoch 16/30\n",
      "24/24 [==============================] - 71s 3s/step - loss: 1.7498 - accuracy: 0.7318 - val_loss: 2.9904 - val_accuracy: 0.6720\n",
      "Epoch 17/30\n",
      "24/24 [==============================] - 78s 3s/step - loss: 1.6982 - accuracy: 0.7426 - val_loss: 2.2837 - val_accuracy: 0.6935\n",
      "Epoch 18/30\n",
      "24/24 [==============================] - 72s 3s/step - loss: 1.6065 - accuracy: 0.7628 - val_loss: 2.4880 - val_accuracy: 0.7204\n",
      "Epoch 19/30\n",
      "24/24 [==============================] - 71s 3s/step - loss: 1.6137 - accuracy: 0.7412 - val_loss: 2.8819 - val_accuracy: 0.4785\n",
      "Epoch 20/30\n",
      "24/24 [==============================] - 69s 3s/step - loss: 1.5701 - accuracy: 0.7520 - val_loss: 2.2997 - val_accuracy: 0.6667\n",
      "Epoch 21/30\n",
      "24/24 [==============================] - 70s 3s/step - loss: 1.7259 - accuracy: 0.7183 - val_loss: 2.3265 - val_accuracy: 0.4570\n",
      "Epoch 22/30\n",
      "24/24 [==============================] - 70s 3s/step - loss: 1.7442 - accuracy: 0.6456 - val_loss: 3.5209 - val_accuracy: 0.7419\n",
      "Epoch 23/30\n",
      "24/24 [==============================] - 71s 3s/step - loss: 1.5231 - accuracy: 0.7480 - val_loss: 3.3827 - val_accuracy: 0.5968\n",
      "Epoch 24/30\n",
      "24/24 [==============================] - 70s 3s/step - loss: 1.3706 - accuracy: 0.8046 - val_loss: 2.6414 - val_accuracy: 0.6667\n",
      "Epoch 25/30\n",
      "24/24 [==============================] - 71s 3s/step - loss: 1.3020 - accuracy: 0.8288 - val_loss: 2.8067 - val_accuracy: 0.6452\n",
      "Epoch 26/30\n",
      "24/24 [==============================] - 82s 3s/step - loss: 1.2326 - accuracy: 0.8518 - val_loss: 3.1998 - val_accuracy: 0.8011\n",
      "Epoch 27/30\n",
      "24/24 [==============================] - 85s 4s/step - loss: 1.1539 - accuracy: 0.8679 - val_loss: 3.3644 - val_accuracy: 0.6989\n",
      "Epoch 28/30\n",
      "24/24 [==============================] - 95s 4s/step - loss: 1.1540 - accuracy: 0.8625 - val_loss: 2.2332 - val_accuracy: 0.8065\n",
      "Epoch 29/30\n",
      "24/24 [==============================] - 112s 5s/step - loss: 1.0581 - accuracy: 0.8962 - val_loss: 2.9193 - val_accuracy: 0.7473\n",
      "Epoch 30/30\n",
      "24/24 [==============================] - 87s 4s/step - loss: 1.0174 - accuracy: 0.9057 - val_loss: 4.0578 - val_accuracy: 0.6720\n"
     ]
    }
   ],
   "source": [
    "#lets alter with the learning rate and the number of epochs because the training was very slow\n",
    "#lets start with the regularization (kernel), addition of the kernel parameter, validation data= xtest and ytest and the epochs decreased to 20\n",
    "from tensorflow.keras.regularizers import L2\n",
    "from tensorflow.keras.optimizers import Adam\n",
    "opt = Adam(learning_rate=0.001)\n",
    "model_2 = Sequential()\n",
    "\n",
    "model_2.add(Conv2D(32,(3,3),activation = 'relu',input_shape=(150,150,3)))\n",
    "model_2.add(Conv2D(64,(3,3),activation='relu' , kernel_regularizer=L2(0.001)))\n",
    "model_2.add(MaxPooling2D(2,2))\n",
    "\n",
    "\n",
    "model_2.add(Conv2D(64,(3,3),activation='relu' , kernel_regularizer=L2(0.001)))\n",
    "model_2.add(Conv2D(64,(3,3),activation='relu', kernel_regularizer=L2(0.001)))\n",
    "model_2.add(Dropout(0.3))\n",
    "model_2.add(MaxPooling2D(2,2))\n",
    "\n",
    "model_2.add(Dropout(0.3))\n",
    "\n",
    "model_2.add(Conv2D(128,(3,3),activation='relu', kernel_regularizer=L2(0.001)))\n",
    "model_2.add(Conv2D(128,(3,3),activation='relu', kernel_regularizer=L2(0.001)))\n",
    "model_2.add(Conv2D(128,(3,3),activation='relu' ,kernel_regularizer=L2(0.001)))\n",
    "model_2.add(MaxPooling2D(2,2))\n",
    "model_2.add(Dropout(0.3))\n",
    "\n",
    "model_2.add(Conv2D(128,(3,3),activation='relu', kernel_regularizer=L2(0.001)))\n",
    "model_2.add(Conv2D(256,(3,3),activation='relu', kernel_regularizer=L2(0.001)))\n",
    "model_2.add(MaxPooling2D(2,2))\n",
    "model_2.add(Dropout(0.3))\n",
    "\n",
    "model_2.add(Flatten())\n",
    "\n",
    "model_2.add(Dense(512,activation = 'relu', kernel_regularizer=L2(0.001)))\n",
    "model_2.add(Dense(512,activation = 'relu', kernel_regularizer=L2(0.001)))\n",
    "model_2.add(Dropout(0.3))\n",
    "model_2.add(Dense(4,activation='softmax'))\n",
    "\n",
    "model_2.compile('Adam', loss=tf.losses.CategoricalCrossentropy(), metrics=['accuracy'])\n",
    "history_2 = model_2.fit(X_train,y_train,epochs=30,validation_data=(X_test,y_test))"
   ]
  },
  {
   "cell_type": "code",
   "execution_count": 25,
   "id": "6696cee2-6d62-4701-a575-fb5ce9ff9f46",
   "metadata": {
    "tags": []
   },
   "outputs": [
    {
     "name": "stdout",
     "output_type": "stream",
     "text": [
      "Epoch 1/10\n",
      "24/24 [==============================] - 76s 3s/step - loss: 3.1214 - accuracy: 0.3154 - val_loss: 1.3658 - val_accuracy: 0.3226\n",
      "Epoch 2/10\n",
      "24/24 [==============================] - 72s 3s/step - loss: 1.3163 - accuracy: 0.3881 - val_loss: 1.3633 - val_accuracy: 0.3226\n",
      "Epoch 3/10\n",
      "24/24 [==============================] - 74s 3s/step - loss: 1.2157 - accuracy: 0.4596 - val_loss: 1.2849 - val_accuracy: 0.3871\n",
      "Epoch 4/10\n",
      "24/24 [==============================] - 68s 3s/step - loss: 1.1868 - accuracy: 0.4434 - val_loss: 1.2710 - val_accuracy: 0.3925\n",
      "Epoch 5/10\n",
      "24/24 [==============================] - 68s 3s/step - loss: 1.1627 - accuracy: 0.4515 - val_loss: 1.1881 - val_accuracy: 0.4247\n",
      "Epoch 6/10\n",
      "24/24 [==============================] - 69s 3s/step - loss: 1.1001 - accuracy: 0.4245 - val_loss: 1.2362 - val_accuracy: 0.4140\n",
      "Epoch 7/10\n",
      "24/24 [==============================] - 71s 3s/step - loss: 1.0001 - accuracy: 0.5175 - val_loss: 1.1650 - val_accuracy: 0.5269\n",
      "Epoch 8/10\n",
      "24/24 [==============================] - 68s 3s/step - loss: 0.9218 - accuracy: 0.5889 - val_loss: 1.0826 - val_accuracy: 0.6344\n",
      "Epoch 9/10\n",
      "24/24 [==============================] - 69s 3s/step - loss: 0.8767 - accuracy: 0.6011 - val_loss: 1.1900 - val_accuracy: 0.5269\n",
      "Epoch 10/10\n",
      "24/24 [==============================] - 68s 3s/step - loss: 0.8957 - accuracy: 0.6038 - val_loss: 1.1670 - val_accuracy: 0.5914\n"
     ]
    }
   ],
   "source": [
    "#changing the validation split and the epochs\n",
    "model_3 = Sequential()\n",
    "opt = Adam(learning_rate=0.00001)\n",
    "model_3.add(Conv2D(32,(3,3),activation = 'relu',input_shape=(150,150,3)))\n",
    "model_3.add(Conv2D(64,(3,3),activation='relu'))\n",
    "model_3.add(MaxPooling2D(2,2))\n",
    "model_3.add(Dropout(0.3))\n",
    "\n",
    "model_3.add(Conv2D(64,(3,3),activation='relu'))\n",
    "model_3.add(Conv2D(64,(3,3),activation='relu'))\n",
    "model_3.add(Dropout(0.3))\n",
    "model_3.add(MaxPooling2D(2,2))\n",
    "\n",
    "model_3.add(Dropout(0.3))\n",
    "\n",
    "model_3.add(Conv2D(128,(3,3),activation='relu'))\n",
    "model_3.add(Conv2D(128,(3,3),activation='relu'))\n",
    "model_3.add(Conv2D(128,(3,3),activation='relu'))\n",
    "model_3.add(MaxPooling2D(2,2))\n",
    "model_3.add(Dropout(0.3))\n",
    "\n",
    "model_3.add(Conv2D(128,(3,3),activation='relu'))\n",
    "model_3.add(Conv2D(256,(3,3),activation='relu'))\n",
    "model_3.add(MaxPooling2D(2,2))\n",
    "model_3.add(Dropout(0.3))\n",
    "\n",
    "model_3.add(Flatten())\n",
    "\n",
    "model_3.add(Dense(512,activation = 'relu'))\n",
    "model_3.add(Dense(512,activation = 'relu'))\n",
    "model_3.add(Dropout(0.3))\n",
    "model_3.add(Dense(4,activation='softmax'))\n",
    "\n",
    "model_3.compile('Adam', loss=tf.losses.CategoricalCrossentropy(), metrics=['accuracy'])\n",
    "history_3 = model_3.fit(X_train,y_train,epochs=10,validation_data=(X_test,y_test))"
   ]
  },
  {
   "cell_type": "code",
   "execution_count": 26,
   "id": "ce46654a-df8b-4bc8-bcc7-da5aa68c5525",
   "metadata": {
    "scrolled": true,
    "tags": []
   },
   "outputs": [
    {
     "name": "stdout",
     "output_type": "stream",
     "text": [
      "Epoch 1/20\n",
      "21/21 [==============================] - 63s 3s/step - loss: 4.3736 - accuracy: 0.2999 - val_loss: 1.3711 - val_accuracy: 0.2133\n",
      "Epoch 2/20\n",
      "21/21 [==============================] - 60s 3s/step - loss: 1.3272 - accuracy: 0.3658 - val_loss: 1.3707 - val_accuracy: 0.3600\n",
      "Epoch 3/20\n",
      "21/21 [==============================] - 60s 3s/step - loss: 1.2761 - accuracy: 0.4393 - val_loss: 1.3613 - val_accuracy: 0.3733\n",
      "Epoch 4/20\n",
      "21/21 [==============================] - 61s 3s/step - loss: 1.1423 - accuracy: 0.4708 - val_loss: 1.2774 - val_accuracy: 0.4933\n",
      "Epoch 5/20\n",
      "21/21 [==============================] - 61s 3s/step - loss: 1.1315 - accuracy: 0.4633 - val_loss: 1.3291 - val_accuracy: 0.3733\n",
      "Epoch 6/20\n",
      "21/21 [==============================] - 61s 3s/step - loss: 0.9799 - accuracy: 0.5217 - val_loss: 1.0589 - val_accuracy: 0.5600\n",
      "Epoch 7/20\n",
      "21/21 [==============================] - 61s 3s/step - loss: 0.9631 - accuracy: 0.5622 - val_loss: 0.8964 - val_accuracy: 0.6400\n",
      "Epoch 8/20\n",
      "21/21 [==============================] - 61s 3s/step - loss: 0.8499 - accuracy: 0.6207 - val_loss: 0.9301 - val_accuracy: 0.6000\n",
      "Epoch 9/20\n",
      "21/21 [==============================] - 61s 3s/step - loss: 0.8024 - accuracy: 0.6357 - val_loss: 0.8617 - val_accuracy: 0.6133\n",
      "Epoch 10/20\n",
      "21/21 [==============================] - 62s 3s/step - loss: 0.7076 - accuracy: 0.7031 - val_loss: 0.7799 - val_accuracy: 0.6667\n",
      "Epoch 11/20\n",
      "21/21 [==============================] - 60s 3s/step - loss: 0.7140 - accuracy: 0.6882 - val_loss: 0.9419 - val_accuracy: 0.5733\n",
      "Epoch 12/20\n",
      "21/21 [==============================] - 61s 3s/step - loss: 0.8382 - accuracy: 0.6387 - val_loss: 0.8789 - val_accuracy: 0.5600\n",
      "Epoch 13/20\n",
      "21/21 [==============================] - 60s 3s/step - loss: 0.6847 - accuracy: 0.7166 - val_loss: 0.8441 - val_accuracy: 0.5867\n",
      "Epoch 14/20\n",
      "21/21 [==============================] - 61s 3s/step - loss: 0.6099 - accuracy: 0.7631 - val_loss: 0.8870 - val_accuracy: 0.5333\n",
      "Epoch 15/20\n",
      "21/21 [==============================] - 64s 3s/step - loss: 0.6061 - accuracy: 0.7586 - val_loss: 0.6933 - val_accuracy: 0.6800\n",
      "Epoch 16/20\n",
      "21/21 [==============================] - 60s 3s/step - loss: 0.4976 - accuracy: 0.8096 - val_loss: 0.5375 - val_accuracy: 0.7733\n",
      "Epoch 17/20\n",
      "21/21 [==============================] - 60s 3s/step - loss: 0.4581 - accuracy: 0.8261 - val_loss: 0.6526 - val_accuracy: 0.6933\n",
      "Epoch 18/20\n",
      "21/21 [==============================] - 60s 3s/step - loss: 0.3681 - accuracy: 0.8561 - val_loss: 0.4452 - val_accuracy: 0.8267\n",
      "Epoch 19/20\n",
      "21/21 [==============================] - 62s 3s/step - loss: 0.4235 - accuracy: 0.8396 - val_loss: 0.6444 - val_accuracy: 0.7733\n",
      "Epoch 20/20\n",
      "21/21 [==============================] - 60s 3s/step - loss: 0.5805 - accuracy: 0.7781 - val_loss: 0.5851 - val_accuracy: 0.7733\n"
     ]
    }
   ],
   "source": [
    "model4 = Sequential()\n",
    "model4.add(Conv2D(32,(3,3),activation = 'relu',input_shape=(150,150,3)))\n",
    "model4.add(Conv2D(64,(3,3),activation='relu'))\n",
    "model4.add(MaxPooling2D(2,2))\n",
    "model4.add(Dropout(0.3))\n",
    "\n",
    "model4.add(Conv2D(64,(3,3),activation='relu'))\n",
    "model4.add(Conv2D(64,(3,3),activation='relu'))\n",
    "model4.add(Dropout(0.3))\n",
    "model4.add(MaxPooling2D(2,2))\n",
    "\n",
    "model4.add(Dropout(0.3))\n",
    "\n",
    "model4.add(Conv2D(128,(3,3),activation='relu'))\n",
    "model4.add(Conv2D(128,(3,3),activation='relu'))\n",
    "model4.add(Conv2D(128,(3,3),activation='relu'))\n",
    "model4.add(MaxPooling2D(2,2))\n",
    "model4.add(Dropout(0.3))\n",
    "\n",
    "model4.add(Conv2D(128,(3,3),activation='relu'))\n",
    "model4.add(Conv2D(256,(3,3),activation='relu'))\n",
    "model4.add(MaxPooling2D(2,2))\n",
    "model4.add(Dropout(0.3))\n",
    "\n",
    "model4.add(Flatten())\n",
    "\n",
    "model4.add(Dense(512,activation = 'relu'))\n",
    "model4.add(Dense(512,activation = 'relu'))\n",
    "model4.add(Dropout(0.3))\n",
    "model4.add(Dense(4,activation='softmax')) #we are using softmax as the activation param because we are dealing with probability problem \n",
    "#as to whether the image belongs to one of the labels or not\n",
    "\n",
    "model4.compile('Adam', loss=tf.losses.CategoricalCrossentropy(), metrics=['accuracy'])\n",
    "history4 = model4.fit(X_train,y_train,epochs=20,validation_split=0.1)"
   ]
  },
  {
   "cell_type": "markdown",
   "id": "27872818-d77d-4a3a-a961-1885e200d74a",
   "metadata": {},
   "source": [
    "### as it turns out i'm struggling to increase my accuracy from the original model that had the 95% accuracy on the training data "
   ]
  },
  {
   "cell_type": "code",
   "execution_count": null,
   "id": "c40bb88e-929f-421a-8d16-a81c68e973ee",
   "metadata": {},
   "outputs": [],
   "source": []
  }
 ],
 "metadata": {
  "kernelspec": {
   "display_name": "Python 3 (ipykernel)",
   "language": "python",
   "name": "python3"
  },
  "language_info": {
   "codemirror_mode": {
    "name": "ipython",
    "version": 3
   },
   "file_extension": ".py",
   "mimetype": "text/x-python",
   "name": "python",
   "nbconvert_exporter": "python",
   "pygments_lexer": "ipython3",
   "version": "3.11.5"
  }
 },
 "nbformat": 4,
 "nbformat_minor": 5
}
